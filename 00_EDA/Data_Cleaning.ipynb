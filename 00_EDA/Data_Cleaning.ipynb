{
  "cells": [
    {
      "cell_type": "code",
      "execution_count": 1,
      "metadata": {
        "id": "_WzvvcmC2c-n"
      },
      "outputs": [],
      "source": [
        "import numpy as np\n",
        "import pandas as pd\n",
        "import matplotlib.pyplot as plt\n",
        "import seaborn as sns"
      ]
    },
    {
      "cell_type": "code",
      "execution_count": 2,
      "metadata": {
        "id": "H8P350dC2wX8"
      },
      "outputs": [],
      "source": [
        "import warnings\n",
        "\n",
        "warnings.filterwarnings('ignore')"
      ]
    },
    {
      "cell_type": "code",
      "execution_count": 3,
      "metadata": {
        "id": "Nauq0Pzg2-Gq"
      },
      "outputs": [],
      "source": [
        "df = pd.read_csv(\"dirty_cafe_sales.csv\")"
      ]
    },
    {
      "cell_type": "code",
      "execution_count": 4,
      "metadata": {
        "colab": {
          "base_uri": "https://localhost:8080/",
          "height": 206
        },
        "id": "jkZy9Fl83HqV",
        "outputId": "4a0f78c8-1a30-4e5b-f357-7ffc1ba170cb"
      },
      "outputs": [
        {
          "data": {
            "application/vnd.microsoft.datawrangler.viewer.v0+json": {
              "columns": [
                {
                  "name": "index",
                  "rawType": "int64",
                  "type": "integer"
                },
                {
                  "name": "Transaction ID",
                  "rawType": "object",
                  "type": "string"
                },
                {
                  "name": "Item",
                  "rawType": "object",
                  "type": "string"
                },
                {
                  "name": "Quantity",
                  "rawType": "object",
                  "type": "string"
                },
                {
                  "name": "Price Per Unit",
                  "rawType": "object",
                  "type": "string"
                },
                {
                  "name": "Total Spent",
                  "rawType": "object",
                  "type": "string"
                },
                {
                  "name": "Payment Method",
                  "rawType": "object",
                  "type": "string"
                },
                {
                  "name": "Location",
                  "rawType": "object",
                  "type": "string"
                },
                {
                  "name": "Transaction Date",
                  "rawType": "object",
                  "type": "string"
                }
              ],
              "ref": "9647db5e-19a0-45c5-9c01-f0db9c886a6c",
              "rows": [
                [
                  "0",
                  "TXN_1961373",
                  "Coffee",
                  "2",
                  "2.0",
                  "4.0",
                  "Credit Card",
                  "Takeaway",
                  "2023-09-08"
                ],
                [
                  "1",
                  "TXN_4977031",
                  "Cake",
                  "4",
                  "3.0",
                  "12.0",
                  "Cash",
                  "In-store",
                  "2023-05-16"
                ],
                [
                  "2",
                  "TXN_4271903",
                  "Cookie",
                  "4",
                  "1.0",
                  "ERROR",
                  "Credit Card",
                  "In-store",
                  "2023-07-19"
                ],
                [
                  "3",
                  "TXN_7034554",
                  "Salad",
                  "2",
                  "5.0",
                  "10.0",
                  "UNKNOWN",
                  "UNKNOWN",
                  "2023-04-27"
                ],
                [
                  "4",
                  "TXN_3160411",
                  "Coffee",
                  "2",
                  "2.0",
                  "4.0",
                  "Digital Wallet",
                  "In-store",
                  "2023-06-11"
                ]
              ],
              "shape": {
                "columns": 8,
                "rows": 5
              }
            },
            "text/html": [
              "<div>\n",
              "<style scoped>\n",
              "    .dataframe tbody tr th:only-of-type {\n",
              "        vertical-align: middle;\n",
              "    }\n",
              "\n",
              "    .dataframe tbody tr th {\n",
              "        vertical-align: top;\n",
              "    }\n",
              "\n",
              "    .dataframe thead th {\n",
              "        text-align: right;\n",
              "    }\n",
              "</style>\n",
              "<table border=\"1\" class=\"dataframe\">\n",
              "  <thead>\n",
              "    <tr style=\"text-align: right;\">\n",
              "      <th></th>\n",
              "      <th>Transaction ID</th>\n",
              "      <th>Item</th>\n",
              "      <th>Quantity</th>\n",
              "      <th>Price Per Unit</th>\n",
              "      <th>Total Spent</th>\n",
              "      <th>Payment Method</th>\n",
              "      <th>Location</th>\n",
              "      <th>Transaction Date</th>\n",
              "    </tr>\n",
              "  </thead>\n",
              "  <tbody>\n",
              "    <tr>\n",
              "      <th>0</th>\n",
              "      <td>TXN_1961373</td>\n",
              "      <td>Coffee</td>\n",
              "      <td>2</td>\n",
              "      <td>2.0</td>\n",
              "      <td>4.0</td>\n",
              "      <td>Credit Card</td>\n",
              "      <td>Takeaway</td>\n",
              "      <td>2023-09-08</td>\n",
              "    </tr>\n",
              "    <tr>\n",
              "      <th>1</th>\n",
              "      <td>TXN_4977031</td>\n",
              "      <td>Cake</td>\n",
              "      <td>4</td>\n",
              "      <td>3.0</td>\n",
              "      <td>12.0</td>\n",
              "      <td>Cash</td>\n",
              "      <td>In-store</td>\n",
              "      <td>2023-05-16</td>\n",
              "    </tr>\n",
              "    <tr>\n",
              "      <th>2</th>\n",
              "      <td>TXN_4271903</td>\n",
              "      <td>Cookie</td>\n",
              "      <td>4</td>\n",
              "      <td>1.0</td>\n",
              "      <td>ERROR</td>\n",
              "      <td>Credit Card</td>\n",
              "      <td>In-store</td>\n",
              "      <td>2023-07-19</td>\n",
              "    </tr>\n",
              "    <tr>\n",
              "      <th>3</th>\n",
              "      <td>TXN_7034554</td>\n",
              "      <td>Salad</td>\n",
              "      <td>2</td>\n",
              "      <td>5.0</td>\n",
              "      <td>10.0</td>\n",
              "      <td>UNKNOWN</td>\n",
              "      <td>UNKNOWN</td>\n",
              "      <td>2023-04-27</td>\n",
              "    </tr>\n",
              "    <tr>\n",
              "      <th>4</th>\n",
              "      <td>TXN_3160411</td>\n",
              "      <td>Coffee</td>\n",
              "      <td>2</td>\n",
              "      <td>2.0</td>\n",
              "      <td>4.0</td>\n",
              "      <td>Digital Wallet</td>\n",
              "      <td>In-store</td>\n",
              "      <td>2023-06-11</td>\n",
              "    </tr>\n",
              "  </tbody>\n",
              "</table>\n",
              "</div>"
            ],
            "text/plain": [
              "  Transaction ID    Item Quantity Price Per Unit Total Spent  Payment Method  \\\n",
              "0    TXN_1961373  Coffee        2            2.0         4.0     Credit Card   \n",
              "1    TXN_4977031    Cake        4            3.0        12.0            Cash   \n",
              "2    TXN_4271903  Cookie        4            1.0       ERROR     Credit Card   \n",
              "3    TXN_7034554   Salad        2            5.0        10.0         UNKNOWN   \n",
              "4    TXN_3160411  Coffee        2            2.0         4.0  Digital Wallet   \n",
              "\n",
              "   Location Transaction Date  \n",
              "0  Takeaway       2023-09-08  \n",
              "1  In-store       2023-05-16  \n",
              "2  In-store       2023-07-19  \n",
              "3   UNKNOWN       2023-04-27  \n",
              "4  In-store       2023-06-11  "
            ]
          },
          "execution_count": 4,
          "metadata": {},
          "output_type": "execute_result"
        }
      ],
      "source": [
        "df.head()"
      ]
    },
    {
      "cell_type": "code",
      "execution_count": 5,
      "metadata": {
        "id": "h8YxH_Bc3PjU"
      },
      "outputs": [],
      "source": [
        "df.drop_duplicates(inplace = True)"
      ]
    },
    {
      "cell_type": "code",
      "execution_count": 6,
      "metadata": {
        "colab": {
          "base_uri": "https://localhost:8080/"
        },
        "id": "bB7I2KZc3j2e",
        "outputId": "606efd6a-ff4a-4e37-b65c-8b18c4b57e64"
      },
      "outputs": [
        {
          "data": {
            "text/plain": [
              "(10000, 8)"
            ]
          },
          "execution_count": 6,
          "metadata": {},
          "output_type": "execute_result"
        }
      ],
      "source": [
        "df.shape"
      ]
    },
    {
      "cell_type": "code",
      "execution_count": 7,
      "metadata": {
        "colab": {
          "base_uri": "https://localhost:8080/",
          "height": 335
        },
        "id": "rPAD9rzr3KHa",
        "outputId": "24817632-bb69-47b6-cc94-6ebc5f528297"
      },
      "outputs": [
        {
          "data": {
            "application/vnd.microsoft.datawrangler.viewer.v0+json": {
              "columns": [
                {
                  "name": "index",
                  "rawType": "object",
                  "type": "string"
                },
                {
                  "name": "0",
                  "rawType": "int64",
                  "type": "integer"
                }
              ],
              "ref": "1744972b-ef96-426e-b446-406ac1011a75",
              "rows": [
                [
                  "Transaction ID",
                  "0"
                ],
                [
                  "Item",
                  "333"
                ],
                [
                  "Quantity",
                  "138"
                ],
                [
                  "Price Per Unit",
                  "179"
                ],
                [
                  "Total Spent",
                  "173"
                ],
                [
                  "Payment Method",
                  "2579"
                ],
                [
                  "Location",
                  "3265"
                ],
                [
                  "Transaction Date",
                  "159"
                ]
              ],
              "shape": {
                "columns": 1,
                "rows": 8
              }
            },
            "text/plain": [
              "Transaction ID         0\n",
              "Item                 333\n",
              "Quantity             138\n",
              "Price Per Unit       179\n",
              "Total Spent          173\n",
              "Payment Method      2579\n",
              "Location            3265\n",
              "Transaction Date     159\n",
              "dtype: int64"
            ]
          },
          "execution_count": 7,
          "metadata": {},
          "output_type": "execute_result"
        }
      ],
      "source": [
        "df.isnull().sum()"
      ]
    },
    {
      "cell_type": "code",
      "execution_count": 8,
      "metadata": {
        "colab": {
          "base_uri": "https://localhost:8080/"
        },
        "id": "UWDUgGa03gbs",
        "outputId": "7238fd42-90d0-4206-b05f-2d9fe5669dad"
      },
      "outputs": [
        {
          "name": "stdout",
          "output_type": "stream",
          "text": [
            "<class 'pandas.core.frame.DataFrame'>\n",
            "RangeIndex: 10000 entries, 0 to 9999\n",
            "Data columns (total 8 columns):\n",
            " #   Column            Non-Null Count  Dtype \n",
            "---  ------            --------------  ----- \n",
            " 0   Transaction ID    10000 non-null  object\n",
            " 1   Item              9667 non-null   object\n",
            " 2   Quantity          9862 non-null   object\n",
            " 3   Price Per Unit    9821 non-null   object\n",
            " 4   Total Spent       9827 non-null   object\n",
            " 5   Payment Method    7421 non-null   object\n",
            " 6   Location          6735 non-null   object\n",
            " 7   Transaction Date  9841 non-null   object\n",
            "dtypes: object(8)\n",
            "memory usage: 625.1+ KB\n"
          ]
        }
      ],
      "source": [
        "df.info()"
      ]
    },
    {
      "cell_type": "code",
      "execution_count": 9,
      "metadata": {
        "id": "Djrvie_S3nVt"
      },
      "outputs": [],
      "source": [
        "df['Quantity'] = pd.to_numeric(df['Quantity'], errors='coerce')\n",
        "mean_value = df['Quantity'].mean()\n",
        "df['Quantity'] = df['Quantity'].fillna(mean_value).astype(int)"
      ]
    },
    {
      "cell_type": "code",
      "execution_count": 10,
      "metadata": {
        "colab": {
          "base_uri": "https://localhost:8080/",
          "height": 206
        },
        "id": "YklzhDxj4tnL",
        "outputId": "54bbe3e7-40a5-484c-f96f-2ca298994cba"
      },
      "outputs": [
        {
          "data": {
            "application/vnd.microsoft.datawrangler.viewer.v0+json": {
              "columns": [
                {
                  "name": "index",
                  "rawType": "int64",
                  "type": "integer"
                },
                {
                  "name": "Transaction ID",
                  "rawType": "object",
                  "type": "string"
                },
                {
                  "name": "Item",
                  "rawType": "object",
                  "type": "string"
                },
                {
                  "name": "Quantity",
                  "rawType": "int64",
                  "type": "integer"
                },
                {
                  "name": "Price Per Unit",
                  "rawType": "object",
                  "type": "string"
                },
                {
                  "name": "Total Spent",
                  "rawType": "object",
                  "type": "string"
                },
                {
                  "name": "Payment Method",
                  "rawType": "object",
                  "type": "string"
                },
                {
                  "name": "Location",
                  "rawType": "object",
                  "type": "string"
                },
                {
                  "name": "Transaction Date",
                  "rawType": "object",
                  "type": "string"
                }
              ],
              "ref": "0ab2392f-0772-47c6-ab89-5fa5aed4615d",
              "rows": [
                [
                  "0",
                  "TXN_1961373",
                  "Coffee",
                  "2",
                  "2.0",
                  "4.0",
                  "Credit Card",
                  "Takeaway",
                  "2023-09-08"
                ],
                [
                  "1",
                  "TXN_4977031",
                  "Cake",
                  "4",
                  "3.0",
                  "12.0",
                  "Cash",
                  "In-store",
                  "2023-05-16"
                ],
                [
                  "2",
                  "TXN_4271903",
                  "Cookie",
                  "4",
                  "1.0",
                  "ERROR",
                  "Credit Card",
                  "In-store",
                  "2023-07-19"
                ],
                [
                  "3",
                  "TXN_7034554",
                  "Salad",
                  "2",
                  "5.0",
                  "10.0",
                  "UNKNOWN",
                  "UNKNOWN",
                  "2023-04-27"
                ],
                [
                  "4",
                  "TXN_3160411",
                  "Coffee",
                  "2",
                  "2.0",
                  "4.0",
                  "Digital Wallet",
                  "In-store",
                  "2023-06-11"
                ]
              ],
              "shape": {
                "columns": 8,
                "rows": 5
              }
            },
            "text/html": [
              "<div>\n",
              "<style scoped>\n",
              "    .dataframe tbody tr th:only-of-type {\n",
              "        vertical-align: middle;\n",
              "    }\n",
              "\n",
              "    .dataframe tbody tr th {\n",
              "        vertical-align: top;\n",
              "    }\n",
              "\n",
              "    .dataframe thead th {\n",
              "        text-align: right;\n",
              "    }\n",
              "</style>\n",
              "<table border=\"1\" class=\"dataframe\">\n",
              "  <thead>\n",
              "    <tr style=\"text-align: right;\">\n",
              "      <th></th>\n",
              "      <th>Transaction ID</th>\n",
              "      <th>Item</th>\n",
              "      <th>Quantity</th>\n",
              "      <th>Price Per Unit</th>\n",
              "      <th>Total Spent</th>\n",
              "      <th>Payment Method</th>\n",
              "      <th>Location</th>\n",
              "      <th>Transaction Date</th>\n",
              "    </tr>\n",
              "  </thead>\n",
              "  <tbody>\n",
              "    <tr>\n",
              "      <th>0</th>\n",
              "      <td>TXN_1961373</td>\n",
              "      <td>Coffee</td>\n",
              "      <td>2</td>\n",
              "      <td>2.0</td>\n",
              "      <td>4.0</td>\n",
              "      <td>Credit Card</td>\n",
              "      <td>Takeaway</td>\n",
              "      <td>2023-09-08</td>\n",
              "    </tr>\n",
              "    <tr>\n",
              "      <th>1</th>\n",
              "      <td>TXN_4977031</td>\n",
              "      <td>Cake</td>\n",
              "      <td>4</td>\n",
              "      <td>3.0</td>\n",
              "      <td>12.0</td>\n",
              "      <td>Cash</td>\n",
              "      <td>In-store</td>\n",
              "      <td>2023-05-16</td>\n",
              "    </tr>\n",
              "    <tr>\n",
              "      <th>2</th>\n",
              "      <td>TXN_4271903</td>\n",
              "      <td>Cookie</td>\n",
              "      <td>4</td>\n",
              "      <td>1.0</td>\n",
              "      <td>ERROR</td>\n",
              "      <td>Credit Card</td>\n",
              "      <td>In-store</td>\n",
              "      <td>2023-07-19</td>\n",
              "    </tr>\n",
              "    <tr>\n",
              "      <th>3</th>\n",
              "      <td>TXN_7034554</td>\n",
              "      <td>Salad</td>\n",
              "      <td>2</td>\n",
              "      <td>5.0</td>\n",
              "      <td>10.0</td>\n",
              "      <td>UNKNOWN</td>\n",
              "      <td>UNKNOWN</td>\n",
              "      <td>2023-04-27</td>\n",
              "    </tr>\n",
              "    <tr>\n",
              "      <th>4</th>\n",
              "      <td>TXN_3160411</td>\n",
              "      <td>Coffee</td>\n",
              "      <td>2</td>\n",
              "      <td>2.0</td>\n",
              "      <td>4.0</td>\n",
              "      <td>Digital Wallet</td>\n",
              "      <td>In-store</td>\n",
              "      <td>2023-06-11</td>\n",
              "    </tr>\n",
              "  </tbody>\n",
              "</table>\n",
              "</div>"
            ],
            "text/plain": [
              "  Transaction ID    Item  Quantity Price Per Unit Total Spent  Payment Method  \\\n",
              "0    TXN_1961373  Coffee         2            2.0         4.0     Credit Card   \n",
              "1    TXN_4977031    Cake         4            3.0        12.0            Cash   \n",
              "2    TXN_4271903  Cookie         4            1.0       ERROR     Credit Card   \n",
              "3    TXN_7034554   Salad         2            5.0        10.0         UNKNOWN   \n",
              "4    TXN_3160411  Coffee         2            2.0         4.0  Digital Wallet   \n",
              "\n",
              "   Location Transaction Date  \n",
              "0  Takeaway       2023-09-08  \n",
              "1  In-store       2023-05-16  \n",
              "2  In-store       2023-07-19  \n",
              "3   UNKNOWN       2023-04-27  \n",
              "4  In-store       2023-06-11  "
            ]
          },
          "execution_count": 10,
          "metadata": {},
          "output_type": "execute_result"
        }
      ],
      "source": [
        "df.head()"
      ]
    },
    {
      "cell_type": "code",
      "execution_count": 11,
      "metadata": {
        "id": "iulRQKFq6gWO"
      },
      "outputs": [],
      "source": [
        "for col in ['Total Spent', 'Price Per Unit']:\n",
        "    df[col] = pd.to_numeric(df[col], errors='coerce')       # convert to numeric\n",
        "    mean_value = df[col].mean()                              # calculate mean\n",
        "    df[col].fillna(mean_value, inplace=True)                 # fill NaNs with mean\n",
        "    df[col] = df[col].astype(float)                          # ensure float type"
      ]
    },
    {
      "cell_type": "code",
      "execution_count": 12,
      "metadata": {
        "id": "ypQlxIb77LTy"
      },
      "outputs": [],
      "source": [
        "for col in ['Payment Method', 'Location']:\n",
        "    mode_value = df[col].mode()[0]      # get the most frequent value\n",
        "    df[col].fillna(mode_value, inplace=True)  # fill missing values with mode"
      ]
    },
    {
      "cell_type": "code",
      "execution_count": 13,
      "metadata": {
        "colab": {
          "base_uri": "https://localhost:8080/",
          "height": 206
        },
        "id": "vxUJNTzd7VjR",
        "outputId": "413162f5-746e-44d8-ff6e-692ac24ce598"
      },
      "outputs": [
        {
          "data": {
            "application/vnd.microsoft.datawrangler.viewer.v0+json": {
              "columns": [
                {
                  "name": "index",
                  "rawType": "int64",
                  "type": "integer"
                },
                {
                  "name": "Transaction ID",
                  "rawType": "object",
                  "type": "string"
                },
                {
                  "name": "Item",
                  "rawType": "object",
                  "type": "string"
                },
                {
                  "name": "Quantity",
                  "rawType": "int64",
                  "type": "integer"
                },
                {
                  "name": "Price Per Unit",
                  "rawType": "float64",
                  "type": "float"
                },
                {
                  "name": "Total Spent",
                  "rawType": "float64",
                  "type": "float"
                },
                {
                  "name": "Payment Method",
                  "rawType": "object",
                  "type": "string"
                },
                {
                  "name": "Location",
                  "rawType": "object",
                  "type": "string"
                },
                {
                  "name": "Transaction Date",
                  "rawType": "object",
                  "type": "string"
                }
              ],
              "ref": "8fe3af5b-4ad9-4bf1-9761-cb0d2cdafa34",
              "rows": [
                [
                  "0",
                  "TXN_1961373",
                  "Coffee",
                  "2",
                  "2.0",
                  "4.0",
                  "Credit Card",
                  "Takeaway",
                  "2023-09-08"
                ],
                [
                  "1",
                  "TXN_4977031",
                  "Cake",
                  "4",
                  "3.0",
                  "12.0",
                  "Cash",
                  "In-store",
                  "2023-05-16"
                ],
                [
                  "2",
                  "TXN_4271903",
                  "Cookie",
                  "4",
                  "1.0",
                  "8.924352495262161",
                  "Credit Card",
                  "In-store",
                  "2023-07-19"
                ],
                [
                  "3",
                  "TXN_7034554",
                  "Salad",
                  "2",
                  "5.0",
                  "10.0",
                  "UNKNOWN",
                  "UNKNOWN",
                  "2023-04-27"
                ],
                [
                  "4",
                  "TXN_3160411",
                  "Coffee",
                  "2",
                  "2.0",
                  "4.0",
                  "Digital Wallet",
                  "In-store",
                  "2023-06-11"
                ]
              ],
              "shape": {
                "columns": 8,
                "rows": 5
              }
            },
            "text/html": [
              "<div>\n",
              "<style scoped>\n",
              "    .dataframe tbody tr th:only-of-type {\n",
              "        vertical-align: middle;\n",
              "    }\n",
              "\n",
              "    .dataframe tbody tr th {\n",
              "        vertical-align: top;\n",
              "    }\n",
              "\n",
              "    .dataframe thead th {\n",
              "        text-align: right;\n",
              "    }\n",
              "</style>\n",
              "<table border=\"1\" class=\"dataframe\">\n",
              "  <thead>\n",
              "    <tr style=\"text-align: right;\">\n",
              "      <th></th>\n",
              "      <th>Transaction ID</th>\n",
              "      <th>Item</th>\n",
              "      <th>Quantity</th>\n",
              "      <th>Price Per Unit</th>\n",
              "      <th>Total Spent</th>\n",
              "      <th>Payment Method</th>\n",
              "      <th>Location</th>\n",
              "      <th>Transaction Date</th>\n",
              "    </tr>\n",
              "  </thead>\n",
              "  <tbody>\n",
              "    <tr>\n",
              "      <th>0</th>\n",
              "      <td>TXN_1961373</td>\n",
              "      <td>Coffee</td>\n",
              "      <td>2</td>\n",
              "      <td>2.0</td>\n",
              "      <td>4.000000</td>\n",
              "      <td>Credit Card</td>\n",
              "      <td>Takeaway</td>\n",
              "      <td>2023-09-08</td>\n",
              "    </tr>\n",
              "    <tr>\n",
              "      <th>1</th>\n",
              "      <td>TXN_4977031</td>\n",
              "      <td>Cake</td>\n",
              "      <td>4</td>\n",
              "      <td>3.0</td>\n",
              "      <td>12.000000</td>\n",
              "      <td>Cash</td>\n",
              "      <td>In-store</td>\n",
              "      <td>2023-05-16</td>\n",
              "    </tr>\n",
              "    <tr>\n",
              "      <th>2</th>\n",
              "      <td>TXN_4271903</td>\n",
              "      <td>Cookie</td>\n",
              "      <td>4</td>\n",
              "      <td>1.0</td>\n",
              "      <td>8.924352</td>\n",
              "      <td>Credit Card</td>\n",
              "      <td>In-store</td>\n",
              "      <td>2023-07-19</td>\n",
              "    </tr>\n",
              "    <tr>\n",
              "      <th>3</th>\n",
              "      <td>TXN_7034554</td>\n",
              "      <td>Salad</td>\n",
              "      <td>2</td>\n",
              "      <td>5.0</td>\n",
              "      <td>10.000000</td>\n",
              "      <td>UNKNOWN</td>\n",
              "      <td>UNKNOWN</td>\n",
              "      <td>2023-04-27</td>\n",
              "    </tr>\n",
              "    <tr>\n",
              "      <th>4</th>\n",
              "      <td>TXN_3160411</td>\n",
              "      <td>Coffee</td>\n",
              "      <td>2</td>\n",
              "      <td>2.0</td>\n",
              "      <td>4.000000</td>\n",
              "      <td>Digital Wallet</td>\n",
              "      <td>In-store</td>\n",
              "      <td>2023-06-11</td>\n",
              "    </tr>\n",
              "  </tbody>\n",
              "</table>\n",
              "</div>"
            ],
            "text/plain": [
              "  Transaction ID    Item  Quantity  Price Per Unit  Total Spent  \\\n",
              "0    TXN_1961373  Coffee         2             2.0     4.000000   \n",
              "1    TXN_4977031    Cake         4             3.0    12.000000   \n",
              "2    TXN_4271903  Cookie         4             1.0     8.924352   \n",
              "3    TXN_7034554   Salad         2             5.0    10.000000   \n",
              "4    TXN_3160411  Coffee         2             2.0     4.000000   \n",
              "\n",
              "   Payment Method  Location Transaction Date  \n",
              "0     Credit Card  Takeaway       2023-09-08  \n",
              "1            Cash  In-store       2023-05-16  \n",
              "2     Credit Card  In-store       2023-07-19  \n",
              "3         UNKNOWN   UNKNOWN       2023-04-27  \n",
              "4  Digital Wallet  In-store       2023-06-11  "
            ]
          },
          "execution_count": 13,
          "metadata": {},
          "output_type": "execute_result"
        }
      ],
      "source": [
        "df.head()"
      ]
    },
    {
      "cell_type": "code",
      "execution_count": 14,
      "metadata": {
        "colab": {
          "base_uri": "https://localhost:8080/",
          "height": 335
        },
        "id": "NezX0LZX7Wub",
        "outputId": "50fb054b-53b5-4acb-9a70-7ab94f7455fd"
      },
      "outputs": [
        {
          "data": {
            "application/vnd.microsoft.datawrangler.viewer.v0+json": {
              "columns": [
                {
                  "name": "index",
                  "rawType": "object",
                  "type": "string"
                },
                {
                  "name": "0",
                  "rawType": "int64",
                  "type": "integer"
                }
              ],
              "ref": "2d65177d-69e8-45ac-9f41-0ba678a2c2cb",
              "rows": [
                [
                  "Transaction ID",
                  "0"
                ],
                [
                  "Item",
                  "333"
                ],
                [
                  "Quantity",
                  "0"
                ],
                [
                  "Price Per Unit",
                  "0"
                ],
                [
                  "Total Spent",
                  "0"
                ],
                [
                  "Payment Method",
                  "0"
                ],
                [
                  "Location",
                  "0"
                ],
                [
                  "Transaction Date",
                  "159"
                ]
              ],
              "shape": {
                "columns": 1,
                "rows": 8
              }
            },
            "text/plain": [
              "Transaction ID        0\n",
              "Item                333\n",
              "Quantity              0\n",
              "Price Per Unit        0\n",
              "Total Spent           0\n",
              "Payment Method        0\n",
              "Location              0\n",
              "Transaction Date    159\n",
              "dtype: int64"
            ]
          },
          "execution_count": 14,
          "metadata": {},
          "output_type": "execute_result"
        }
      ],
      "source": [
        "df.isnull().sum()"
      ]
    },
    {
      "cell_type": "code",
      "execution_count": 15,
      "metadata": {
        "id": "R1REkW0M8ZYQ"
      },
      "outputs": [],
      "source": [
        "mode_item = df['Item'].mode()[0]\n",
        "df['Item'].fillna(mode_item, inplace=True)\n",
        "df['Transaction Date'] = pd.to_datetime(df['Transaction Date'], errors='coerce')\n",
        "mode_date = df['Transaction Date'].mode()[0]\n",
        "df['Transaction Date'].fillna(mode_date, inplace=True)\n",
        "for col in ['Payment Method', 'Location']:\n",
        "    mode_value = df[col].mode()[0]\n",
        "    df[col].fillna(mode_value, inplace=True)       # fill NaN\n",
        "    df[col].replace('UNKNOWN', mode_value, inplace=True)  # replace 'UNKNOWN'"
      ]
    },
    {
      "cell_type": "code",
      "execution_count": 16,
      "metadata": {
        "colab": {
          "base_uri": "https://localhost:8080/",
          "height": 389
        },
        "id": "DTsbddyy9wiW",
        "outputId": "f717fb77-48f0-4c14-8f66-feae3c3b524e"
      },
      "outputs": [
        {
          "name": "stdout",
          "output_type": "stream",
          "text": [
            "Transaction ID      0\n",
            "Item                0\n",
            "Quantity            0\n",
            "Price Per Unit      0\n",
            "Total Spent         0\n",
            "Payment Method      0\n",
            "Location            0\n",
            "Transaction Date    0\n",
            "dtype: int64\n",
            "Count of 'UNKNOWN' in Location column: 0\n"
          ]
        },
        {
          "data": {
            "application/vnd.microsoft.datawrangler.viewer.v0+json": {
              "columns": [
                {
                  "name": "index",
                  "rawType": "int64",
                  "type": "integer"
                },
                {
                  "name": "Transaction ID",
                  "rawType": "object",
                  "type": "string"
                },
                {
                  "name": "Item",
                  "rawType": "object",
                  "type": "string"
                },
                {
                  "name": "Quantity",
                  "rawType": "int64",
                  "type": "integer"
                },
                {
                  "name": "Price Per Unit",
                  "rawType": "float64",
                  "type": "float"
                },
                {
                  "name": "Total Spent",
                  "rawType": "float64",
                  "type": "float"
                },
                {
                  "name": "Payment Method",
                  "rawType": "object",
                  "type": "string"
                },
                {
                  "name": "Location",
                  "rawType": "object",
                  "type": "string"
                },
                {
                  "name": "Transaction Date",
                  "rawType": "datetime64[ns]",
                  "type": "datetime"
                }
              ],
              "ref": "3259458a-70be-4164-81b4-55b67fb0007f",
              "rows": [
                [
                  "0",
                  "TXN_1961373",
                  "Coffee",
                  "2",
                  "2.0",
                  "4.0",
                  "Credit Card",
                  "Takeaway",
                  "2023-09-08 00:00:00"
                ],
                [
                  "1",
                  "TXN_4977031",
                  "Cake",
                  "4",
                  "3.0",
                  "12.0",
                  "Cash",
                  "In-store",
                  "2023-05-16 00:00:00"
                ],
                [
                  "2",
                  "TXN_4271903",
                  "Cookie",
                  "4",
                  "1.0",
                  "8.924352495262161",
                  "Credit Card",
                  "In-store",
                  "2023-07-19 00:00:00"
                ],
                [
                  "3",
                  "TXN_7034554",
                  "Salad",
                  "2",
                  "5.0",
                  "10.0",
                  "Digital Wallet",
                  "Takeaway",
                  "2023-04-27 00:00:00"
                ],
                [
                  "4",
                  "TXN_3160411",
                  "Coffee",
                  "2",
                  "2.0",
                  "4.0",
                  "Digital Wallet",
                  "In-store",
                  "2023-06-11 00:00:00"
                ]
              ],
              "shape": {
                "columns": 8,
                "rows": 5
              }
            },
            "text/html": [
              "<div>\n",
              "<style scoped>\n",
              "    .dataframe tbody tr th:only-of-type {\n",
              "        vertical-align: middle;\n",
              "    }\n",
              "\n",
              "    .dataframe tbody tr th {\n",
              "        vertical-align: top;\n",
              "    }\n",
              "\n",
              "    .dataframe thead th {\n",
              "        text-align: right;\n",
              "    }\n",
              "</style>\n",
              "<table border=\"1\" class=\"dataframe\">\n",
              "  <thead>\n",
              "    <tr style=\"text-align: right;\">\n",
              "      <th></th>\n",
              "      <th>Transaction ID</th>\n",
              "      <th>Item</th>\n",
              "      <th>Quantity</th>\n",
              "      <th>Price Per Unit</th>\n",
              "      <th>Total Spent</th>\n",
              "      <th>Payment Method</th>\n",
              "      <th>Location</th>\n",
              "      <th>Transaction Date</th>\n",
              "    </tr>\n",
              "  </thead>\n",
              "  <tbody>\n",
              "    <tr>\n",
              "      <th>0</th>\n",
              "      <td>TXN_1961373</td>\n",
              "      <td>Coffee</td>\n",
              "      <td>2</td>\n",
              "      <td>2.0</td>\n",
              "      <td>4.000000</td>\n",
              "      <td>Credit Card</td>\n",
              "      <td>Takeaway</td>\n",
              "      <td>2023-09-08</td>\n",
              "    </tr>\n",
              "    <tr>\n",
              "      <th>1</th>\n",
              "      <td>TXN_4977031</td>\n",
              "      <td>Cake</td>\n",
              "      <td>4</td>\n",
              "      <td>3.0</td>\n",
              "      <td>12.000000</td>\n",
              "      <td>Cash</td>\n",
              "      <td>In-store</td>\n",
              "      <td>2023-05-16</td>\n",
              "    </tr>\n",
              "    <tr>\n",
              "      <th>2</th>\n",
              "      <td>TXN_4271903</td>\n",
              "      <td>Cookie</td>\n",
              "      <td>4</td>\n",
              "      <td>1.0</td>\n",
              "      <td>8.924352</td>\n",
              "      <td>Credit Card</td>\n",
              "      <td>In-store</td>\n",
              "      <td>2023-07-19</td>\n",
              "    </tr>\n",
              "    <tr>\n",
              "      <th>3</th>\n",
              "      <td>TXN_7034554</td>\n",
              "      <td>Salad</td>\n",
              "      <td>2</td>\n",
              "      <td>5.0</td>\n",
              "      <td>10.000000</td>\n",
              "      <td>Digital Wallet</td>\n",
              "      <td>Takeaway</td>\n",
              "      <td>2023-04-27</td>\n",
              "    </tr>\n",
              "    <tr>\n",
              "      <th>4</th>\n",
              "      <td>TXN_3160411</td>\n",
              "      <td>Coffee</td>\n",
              "      <td>2</td>\n",
              "      <td>2.0</td>\n",
              "      <td>4.000000</td>\n",
              "      <td>Digital Wallet</td>\n",
              "      <td>In-store</td>\n",
              "      <td>2023-06-11</td>\n",
              "    </tr>\n",
              "  </tbody>\n",
              "</table>\n",
              "</div>"
            ],
            "text/plain": [
              "  Transaction ID    Item  Quantity  Price Per Unit  Total Spent  \\\n",
              "0    TXN_1961373  Coffee         2             2.0     4.000000   \n",
              "1    TXN_4977031    Cake         4             3.0    12.000000   \n",
              "2    TXN_4271903  Cookie         4             1.0     8.924352   \n",
              "3    TXN_7034554   Salad         2             5.0    10.000000   \n",
              "4    TXN_3160411  Coffee         2             2.0     4.000000   \n",
              "\n",
              "   Payment Method  Location Transaction Date  \n",
              "0     Credit Card  Takeaway       2023-09-08  \n",
              "1            Cash  In-store       2023-05-16  \n",
              "2     Credit Card  In-store       2023-07-19  \n",
              "3  Digital Wallet  Takeaway       2023-04-27  \n",
              "4  Digital Wallet  In-store       2023-06-11  "
            ]
          },
          "metadata": {},
          "output_type": "display_data"
        }
      ],
      "source": [
        "print(df.isnull().sum())\n",
        "print(\"Count of 'UNKNOWN' in Location column:\", (df['Location'] == 'UNKNOWN').sum())\n",
        "display(df.head())"
      ]
    }
  ],
  "metadata": {
    "colab": {
      "provenance": []
    },
    "kernelspec": {
      "display_name": "venv",
      "language": "python",
      "name": "python3"
    },
    "language_info": {
      "codemirror_mode": {
        "name": "ipython",
        "version": 3
      },
      "file_extension": ".py",
      "mimetype": "text/x-python",
      "name": "python",
      "nbconvert_exporter": "python",
      "pygments_lexer": "ipython3",
      "version": "3.13.7"
    }
  },
  "nbformat": 4,
  "nbformat_minor": 0
}
