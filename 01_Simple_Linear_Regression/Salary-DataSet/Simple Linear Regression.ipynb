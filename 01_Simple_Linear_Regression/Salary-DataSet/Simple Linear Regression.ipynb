{
 "cells": [
  {
   "cell_type": "code",
   "execution_count": 1,
   "id": "b58b14f8",
   "metadata": {},
   "outputs": [],
   "source": [
    "import pandas as pd\n",
    "import numpy as np\n",
    "import matplotlib.pyplot as plt\n",
    "import seaborn as sns\n",
    "\n",
    "from sklearn.model_selection import train_test_split\n",
    "from sklearn.preprocessing import StandardScaler\n",
    "from sklearn.linear_model import LinearRegression\n",
    "from sklearn.metrics import mean_squared_error, mean_absolute_error, r2_score\n",
    "\n",
    "import statsmodels.api as sm"
   ]
  },
  {
   "cell_type": "code",
   "execution_count": 2,
   "id": "e074bbeb",
   "metadata": {},
   "outputs": [
    {
     "data": {
      "application/vnd.microsoft.datawrangler.viewer.v0+json": {
       "columns": [
        {
         "name": "index",
         "rawType": "int64",
         "type": "integer"
        },
        {
         "name": "Unnamed: 0",
         "rawType": "int64",
         "type": "integer"
        },
        {
         "name": "YearsExperience",
         "rawType": "float64",
         "type": "float"
        },
        {
         "name": "Salary",
         "rawType": "float64",
         "type": "float"
        }
       ],
       "ref": "b0adc9bc-fc63-4abb-99f4-4216a0b98735",
       "rows": [
        [
         "0",
         "0",
         "1.2000000000000002",
         "39344.0"
        ],
        [
         "1",
         "1",
         "1.4",
         "46206.0"
        ],
        [
         "2",
         "2",
         "1.6",
         "37732.0"
        ],
        [
         "3",
         "3",
         "2.1",
         "43526.0"
        ],
        [
         "4",
         "4",
         "2.3000000000000003",
         "39892.0"
        ]
       ],
       "shape": {
        "columns": 3,
        "rows": 5
       }
      },
      "text/html": [
       "<div>\n",
       "<style scoped>\n",
       "    .dataframe tbody tr th:only-of-type {\n",
       "        vertical-align: middle;\n",
       "    }\n",
       "\n",
       "    .dataframe tbody tr th {\n",
       "        vertical-align: top;\n",
       "    }\n",
       "\n",
       "    .dataframe thead th {\n",
       "        text-align: right;\n",
       "    }\n",
       "</style>\n",
       "<table border=\"1\" class=\"dataframe\">\n",
       "  <thead>\n",
       "    <tr style=\"text-align: right;\">\n",
       "      <th></th>\n",
       "      <th>Unnamed: 0</th>\n",
       "      <th>YearsExperience</th>\n",
       "      <th>Salary</th>\n",
       "    </tr>\n",
       "  </thead>\n",
       "  <tbody>\n",
       "    <tr>\n",
       "      <th>0</th>\n",
       "      <td>0</td>\n",
       "      <td>1.2</td>\n",
       "      <td>39344.0</td>\n",
       "    </tr>\n",
       "    <tr>\n",
       "      <th>1</th>\n",
       "      <td>1</td>\n",
       "      <td>1.4</td>\n",
       "      <td>46206.0</td>\n",
       "    </tr>\n",
       "    <tr>\n",
       "      <th>2</th>\n",
       "      <td>2</td>\n",
       "      <td>1.6</td>\n",
       "      <td>37732.0</td>\n",
       "    </tr>\n",
       "    <tr>\n",
       "      <th>3</th>\n",
       "      <td>3</td>\n",
       "      <td>2.1</td>\n",
       "      <td>43526.0</td>\n",
       "    </tr>\n",
       "    <tr>\n",
       "      <th>4</th>\n",
       "      <td>4</td>\n",
       "      <td>2.3</td>\n",
       "      <td>39892.0</td>\n",
       "    </tr>\n",
       "  </tbody>\n",
       "</table>\n",
       "</div>"
      ],
      "text/plain": [
       "   Unnamed: 0  YearsExperience   Salary\n",
       "0           0              1.2  39344.0\n",
       "1           1              1.4  46206.0\n",
       "2           2              1.6  37732.0\n",
       "3           3              2.1  43526.0\n",
       "4           4              2.3  39892.0"
      ]
     },
     "execution_count": 2,
     "metadata": {},
     "output_type": "execute_result"
    }
   ],
   "source": [
    "# Step 2: Load Dataset\n",
    "df = pd.read_csv(\"Salary_dataset.csv\")\n",
    "df.head()"
   ]
  },
  {
   "cell_type": "code",
   "execution_count": 3,
   "id": "a1deb55f",
   "metadata": {},
   "outputs": [
    {
     "name": "stdout",
     "output_type": "stream",
     "text": [
      "   YearsExperience   Salary\n",
      "0              1.2  39344.0\n",
      "1              1.4  46206.0\n",
      "2              1.6  37732.0\n",
      "3              2.1  43526.0\n",
      "4              2.3  39892.0\n"
     ]
    }
   ],
   "source": [
    "df.drop(columns=[\"Unnamed: 0\"], axis=1, inplace=True)\n",
    "df.rename(columns={'Year Experience': 'Years of Experience'}, inplace=True)\n",
    "print(df.head())"
   ]
  },
  {
   "cell_type": "code",
   "execution_count": 5,
   "id": "c4dfe3f6",
   "metadata": {},
   "outputs": [
    {
     "name": "stdout",
     "output_type": "stream",
     "text": [
      "   Experience   Salary\n",
      "0         1.2  39344.0\n",
      "1         1.4  46206.0\n",
      "2         1.6  37732.0\n",
      "3         2.1  43526.0\n",
      "4         2.3  39892.0\n"
     ]
    }
   ],
   "source": [
    "df.rename(columns={'Years of Experience': 'Experience'}, inplace=True)\n",
    "print(df.head())"
   ]
  },
  {
   "cell_type": "code",
   "execution_count": 6,
   "id": "77ca441d",
   "metadata": {},
   "outputs": [
    {
     "data": {
      "image/png": "[encoded data removed]",
      "text/plain": [
       "<Figure size 600x400 with 1 Axes>"
      ]
     },
     "metadata": {},
     "output_type": "display_data"
    }
   ],
   "source": [
    "# Step 3: Scatter Plot\n",
    "plt.figure(figsize=(6,4))\n",
    "plt.scatter(df[\"Experience\"], df[\"Salary\"], color='blue', label=\"Data Points\")\n",
    "plt.xlabel('Experience')\n",
    "plt.ylabel('Salary')\n",
    "plt.title(\"Scatter Plot of Salary vs Experience\")\n",
    "plt.legend()\n",
    "plt.show()"
   ]
  },
  {
   "cell_type": "code",
   "execution_count": 7,
   "id": "d7a03709",
   "metadata": {},
   "outputs": [
    {
     "name": "stdout",
     "output_type": "stream",
     "text": [
      "            Experience    Salary\n",
      "Experience    1.000000  0.978242\n",
      "Salary        0.978242  1.000000\n"
     ]
    },
    {
     "data": {
      "image/png": "[encoded data removed]",
      "text/plain": [
       "<Figure size 500x500 with 6 Axes>"
      ]
     },
     "metadata": {},
     "output_type": "display_data"
    }
   ],
   "source": [
    "# Step 4: Correlation\n",
    "print(df.corr())\n",
    "sns.pairplot(df)\n",
    "plt.show()"
   ]
  },
  {
   "cell_type": "code",
   "execution_count": 8,
   "id": "2fddd03a",
   "metadata": {},
   "outputs": [],
   "source": [
    "# Step 5: Define Independent & Dependent Variables\n",
    "X = df[['Experience']]       # Independent variable (2D)\n",
    "Y = df['Salary']             # Dependent variable (1D)"
   ]
  },
  {
   "cell_type": "code",
   "execution_count": 9,
   "id": "1ea0c9f1",
   "metadata": {},
   "outputs": [
    {
     "name": "stdout",
     "output_type": "stream",
     "text": [
      "Train Shape: (22, 1)\n",
      "Test Shape: (8, 1)\n"
     ]
    }
   ],
   "source": [
    "# Step 6: Train-Test Split\n",
    "X_train, X_test, Y_train, Y_test = train_test_split(X, Y, test_size=0.25, random_state=42)\n",
    "print(\"Train Shape:\", X_train.shape)\n",
    "print(\"Test Shape:\", X_test.shape)"
   ]
  },
  {
   "cell_type": "code",
   "execution_count": 10,
   "id": "6c9fc145",
   "metadata": {},
   "outputs": [],
   "source": [
    "# Step 7: Standardization\n",
    "scaler = StandardScaler()\n",
    "X_train_scaled = scaler.fit_transform(X_train)\n",
    "X_test_scaled = scaler.transform(X_test)"
   ]
  },
  {
   "cell_type": "code",
   "execution_count": 11,
   "id": "de3aad72",
   "metadata": {},
   "outputs": [
    {
     "name": "stdout",
     "output_type": "stream",
     "text": [
      "Coefficient (Slope): [25063.1519945]\n",
      "Intercept: 70417.40909090909\n"
     ]
    }
   ],
   "source": [
    "# Step 8: Train Linear Regression Model\n",
    "regression = LinearRegression()\n",
    "regression.fit(X_train_scaled, Y_train)\n",
    "\n",
    "print(\"Coefficient (Slope):\", regression.coef_)\n",
    "print(\"Intercept:\", regression.intercept_)"
   ]
  },
  {
   "cell_type": "code",
   "execution_count": 12,
   "id": "d1d0972e",
   "metadata": {},
   "outputs": [
    {
     "data": {
      "image/png": "[encoded data removed]",
      "text/plain": [
       "<Figure size 600x400 with 1 Axes>"
      ]
     },
     "metadata": {},
     "output_type": "display_data"
    }
   ],
   "source": [
    "# Step 9: Plot Best Fit Line\n",
    "plt.figure(figsize=(6,4))\n",
    "plt.scatter(X_train_scaled, Y_train, color='blue', label=\"Training Data\")\n",
    "plt.plot(X_train_scaled, regression.predict(X_train_scaled), color='red', label=\"Best Fit Line\")\n",
    "plt.xlabel(\"Experience (Standardized)\")\n",
    "plt.ylabel(\"Salary\")\n",
    "plt.title(\"Regression Line on Training Data\")\n",
    "plt.legend()\n",
    "plt.show()"
   ]
  },
  {
   "cell_type": "code",
   "execution_count": 13,
   "id": "58b56297",
   "metadata": {},
   "outputs": [],
   "source": [
    "# Step 10: Predictions (Scaled Test Data)\n",
    "Y_pred = regression.predict(X_test_scaled)"
   ]
  },
  {
   "cell_type": "code",
   "execution_count": 14,
   "id": "27ed801b",
   "metadata": {},
   "outputs": [
    {
     "name": "stdout",
     "output_type": "stream",
     "text": [
      "\n",
      "Comparison of Actual vs Predicted (first 10 rows):\n",
      "   Actual Salary  Predicted Salary\n",
      "0       112636.0     115440.881801\n",
      "1        67939.0      71397.106227\n",
      "2       113813.0     102321.459290\n",
      "3        83089.0      75145.512658\n",
      "4        64446.0      55466.378891\n",
      "5        57190.0      60151.886931\n",
      "6       122392.0     122000.593057\n",
      "7       109432.0     107006.967329\n"
     ]
    }
   ],
   "source": [
    "# Compare Actual vs Predicted\n",
    "results = pd.DataFrame({\n",
    "    \"Actual Salary\": Y_test.values,\n",
    "    \"Predicted Salary\": Y_pred\n",
    "})\n",
    "print(\"\\nComparison of Actual vs Predicted (first 10 rows):\")\n",
    "print(results.head(10))"
   ]
  },
  {
   "cell_type": "code",
   "execution_count": 15,
   "id": "dac86794",
   "metadata": {},
   "outputs": [
    {
     "name": "stdout",
     "output_type": "stream",
     "text": [
      "MSE: 38802588.99247059\n",
      "MAE: 5056.9954666635895\n",
      "RMSE: 6229.172416338352\n",
      "R2 Score: 0.9347210011126783\n"
     ]
    }
   ],
   "source": [
    "# Step 11: Performance Metrics\n",
    "mse = mean_squared_error(Y_test, Y_pred)\n",
    "mae = mean_absolute_error(Y_test, Y_pred)\n",
    "rmse = np.sqrt(mse)\n",
    "r2 = r2_score(Y_test, Y_pred)\n",
    "\n",
    "print(\"MSE:\", mse)\n",
    "print(\"MAE:\", mae)\n",
    "print(\"RMSE:\", rmse)\n",
    "print(\"R2 Score:\", r2)"
   ]
  },
  {
   "cell_type": "code",
   "execution_count": 16,
   "id": "de4c65c6",
   "metadata": {},
   "outputs": [
    {
     "name": "stdout",
     "output_type": "stream",
     "text": [
      "                            OLS Regression Results                            \n",
      "==============================================================================\n",
      "Dep. Variable:                 Salary   R-squared:                       0.955\n",
      "Model:                            OLS   Adj. R-squared:                  0.953\n",
      "Method:                 Least Squares   F-statistic:                     428.3\n",
      "Date:                Sun, 21 Sep 2025   Prob (F-statistic):           5.62e-15\n",
      "Time:                        17:38:13   Log-Likelihood:                -220.35\n",
      "No. Observations:                  22   AIC:                             444.7\n",
      "Df Residuals:                      20   BIC:                             446.9\n",
      "Df Model:                           1                                         \n",
      "Covariance Type:            nonrobust                                         \n",
      "==============================================================================\n",
      "                 coef    std err          t      P>|t|      [0.025      0.975]\n",
      "------------------------------------------------------------------------------\n",
      "const       7.042e+04   1211.034     58.146      0.000    6.79e+04    7.29e+04\n",
      "x1          2.506e+04   1211.034     20.696      0.000    2.25e+04    2.76e+04\n",
      "==============================================================================\n",
      "Omnibus:                        0.869   Durbin-Watson:                   1.918\n",
      "Prob(Omnibus):                  0.648   Jarque-Bera (JB):                0.870\n",
      "Skew:                           0.355   Prob(JB):                        0.647\n",
      "Kurtosis:                       2.332   Cond. No.                         1.00\n",
      "==============================================================================\n",
      "\n",
      "Notes:\n",
      "[1] Standard Errors assume that the covariance matrix of the errors is correctly specified.\n"
     ]
    }
   ],
   "source": [
    "# Step 12: OLS Regression\n",
    "X_train_ols = sm.add_constant(X_train_scaled)\n",
    "model = sm.OLS(Y_train, X_train_ols).fit()\n",
    "print(model.summary())"
   ]
  },
  {
   "cell_type": "code",
   "execution_count": 18,
   "id": "90138e61",
   "metadata": {},
   "outputs": [
    {
     "name": "stdout",
     "output_type": "stream",
     "text": [
      "Predicted Salary for 5 years of experience: 71397.10622651374\n"
     ]
    }
   ],
   "source": [
    "# Step 13: Predict for New Data (YearsExperience = 5)\n",
    "new_exp = pd.DataFrame([[5]], columns=['Experience'])\n",
    "new_exp_scaled = scaler.transform(new_exp)\n",
    "prediction = regression.predict(new_exp_scaled)[0]\n",
    "print(\"Predicted Salary for 5 years of experience:\", prediction)"
   ]
  }
 ],
 "metadata": {
  "kernelspec": {
   "display_name": "venv",
   "language": "python",
   "name": "python3"
  },
  "language_info": {
   "codemirror_mode": {
    "name": "ipython",
    "version": 3
   },
   "file_extension": ".py",
   "mimetype": "text/x-python",
   "name": "python",
   "nbconvert_exporter": "python",
   "pygments_lexer": "ipython3",
   "version": "3.13.7"
  }
 },
 "nbformat": 4,
 "nbformat_minor": 5
}
